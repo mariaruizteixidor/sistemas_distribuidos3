{
 "cells": [
  {
   "cell_type": "markdown",
   "metadata": {},
   "source": [
    "#  4. Ejemplo End-to-End Streaming"
   ]
  },
  {
   "cell_type": "markdown",
   "metadata": {},
   "source": [
    "## 4.1 Instrucciones iniciales y setup\n",
    "\n",
    "2. Crea un directorio `checkpoint` dentro del subdirectorio `data`.\n",
    "\n",
    "3. Asegúrate de que tienes permisos suficientes para manipular archivos dentro del directorio (debería ser así ya, si has ejecutado los ejemplos previos). Si fuese necesario, ejecuta `sudo chmod -R 777 data`.\n",
    "\n",
    "**Entrada: cola de Kafka**\n",
    "\n",
    "4. Arranca el broker de Kafka, o bien localmente instalado o en una MV local o en un contenedor local (e.g. Docker).\n",
    "\n",
    "5. Modifica el script de Python `4-kafka_producer.py` para que envíe los datos al broker de Kafka (indicar la IP y puerto correctos).\n",
    "\n",
    "6. Activa si es necesario el entorno de Anaconda Python (**importante, usando Python v3.6+**). Ejecuta el productor de Kafka con `python p_kafka_producer.py 0.6 1.3 test data/occupancy_data.csv`.\n",
    "\n",
    "7. A partir de ese momento ya estás listo para ejecutar los *jobs* de Spark Streaming de este notebook. ¡Empecemos con el análisis!\n",
    "\n",
    "**Consumo de resultados desde Kafka**\n",
    "\n",
    "Los resultados del Ejercicio 2 y el 3 se escriben en una cola de Kafka de nombre `metrics`. Podemos usar `python 4-kafka_consumer.py` para consumir los datos de dicha cola y presentarlos por pantalla.\n",
    "\n",
    "**WebUI**: Mientras el contexto de Spark Streaming esté activo, podemos acceder a la interfaz de monitorización de los *jobs* en http://localhost:4040."
   ]
  },
  {
   "cell_type": "markdown",
   "metadata": {},
   "source": [
    "## 4.2 Importaciones y creación del contexto"
   ]
  },
  {
   "cell_type": "markdown",
   "metadata": {},
   "source": [
    "###  Creación del SparkContext (solo la primera vez)"
   ]
  },
  {
   "cell_type": "code",
   "execution_count": 1,
   "metadata": {},
   "outputs": [],
   "source": [
    "# Importación de dependencias y funciones\n",
    "from __future__ import print_function\n",
    "from pyspark import SparkContext\n",
    "from pyspark.streaming import StreamingContext\n",
    "from pyspark.streaming.kafka import KafkaUtils\n",
    "from operator import add\n",
    "from operator import sub"
   ]
  },
  {
   "cell_type": "code",
   "execution_count": 2,
   "metadata": {},
   "outputs": [
    {
     "name": "stdout",
     "output_type": "stream",
     "text": [
      "PYSPARK_SUBMIT_ARGS =  --packages org.apache.spark:spark-streaming-kafka-0-8_2.11:2.4.5 pyspark-shell \n",
      "\n",
      "JAVA_HOME =  /usr/lib/jvm/java-8-openjdk-amd64\n"
     ]
    }
   ],
   "source": [
    "# Load external packages programatically\n",
    "import os\n",
    "# THIS IS MANDATORY\n",
    "# You must provide the information about the Maven artifact for the\n",
    "# Spark Streaming connector to Kafka\n",
    "# At present time, only the 0.8.2 version (deprecated) has\n",
    "# Python support\n",
    "packages = \"org.apache.spark:spark-streaming-kafka-0-8_2.11:2.4.5\"\n",
    "os.environ[\"PYSPARK_SUBMIT_ARGS\"] = (\n",
    "    \"--packages {0} pyspark-shell\".format(packages)\n",
    ")\n",
    "# THIS IS COMPULSORY\n",
    "# Comment the line below if JAVA_HOME is already set up or you\n",
    "# only have a single JVM version in your system\n",
    "os.environ[\"JAVA_HOME\"] = \"/usr/lib/jvm/java-8-openjdk-amd64\"\n",
    "\n",
    "# OPTIONAL: Check setup of environment variables\n",
    "print(\"PYSPARK_SUBMIT_ARGS = \",os.environ[\"PYSPARK_SUBMIT_ARGS\"],\"\\n\")\n",
    "print(\"JAVA_HOME = \", os.environ[\"JAVA_HOME\"])"
   ]
  },
  {
   "cell_type": "code",
   "execution_count": 3,
   "metadata": {},
   "outputs": [],
   "source": [
    "sc = SparkContext(appName=\"KafkaStreamingEndtoEnd\")"
   ]
  },
  {
   "cell_type": "markdown",
   "metadata": {},
   "source": [
    "### Creación del streaming context (en cada ejecución de ejercicio)"
   ]
  },
  {
   "cell_type": "code",
   "execution_count": 4,
   "metadata": {},
   "outputs": [],
   "source": [
    "# Crear el contexto de Spark Streaming\n",
    "# Intervalo de actualización de micro-batches (triggers): 5s\n",
    "ssc = StreamingContext(sc, 5)"
   ]
  },
  {
   "cell_type": "markdown",
   "metadata": {},
   "source": [
    "## 4.3 Métodos auxiliares"
   ]
  },
  {
   "cell_type": "markdown",
   "metadata": {},
   "source": [
    "### 4.3.1 Método de parseo de datos de órdenes sobre acciones de bolsa"
   ]
  },
  {
   "cell_type": "markdown",
   "metadata": {},
   "source": [
    "Este método nos ayuda a parsear cada línea que llega por la cola de Kafka con datos sobre órdenes de compra y venta de acciones en bolsa (formato CSV). Lo utilizamos para acceder a los datos de cada evento (orden) del *stream* de entrada de datos."
   ]
  },
  {
   "cell_type": "code",
   "execution_count": 5,
   "metadata": {},
   "outputs": [],
   "source": [
    "from datetime import datetime\n",
    "\n",
    "def parseOrder(line):\n",
    "  s = line.split(\",\")\n",
    "  try:\n",
    "      return [{\"id\": s[0],\n",
    "               \"date\": s[1],\n",
    "               \"Temperature\": s[2], \n",
    "               \"Humidity\": s[3],\n",
    "               \"Light\": s[4],\n",
    "               \"CO2\": s[5],\n",
    "               \"HumidityRatio\": s[6],\n",
    "               \"Occupancy\": s[7]}]\n",
    "\n",
    "  except Exception as err:\n",
    "      print(\"Wrong line format (%s): \" % line)\n",
    "      return []"
   ]
  },
  {
   "cell_type": "markdown",
   "metadata": {},
   "source": [
    "### 4.3.2 Métodos de escritura - Envío de datos a Kafka"
   ]
  },
  {
   "cell_type": "markdown",
   "metadata": {},
   "source": [
    "Este método contiene un *productor singleton* (para evitar tener más de un productor enviando datos al broker de Kafka) y un método para serializar los resultados en formato CSV."
   ]
  },
  {
   "cell_type": "code",
   "execution_count": 6,
   "metadata": {
    "scrolled": true
   },
   "outputs": [],
   "source": [
    "# Configura el endpoint para localizar el broker de Kafka\n",
    "# kafkaBrokerIPPort = \"172.20.1.21:9092\"\n",
    "kafkaBrokerIPPort = \"127.0.0.1:9092\"\n",
    "\n",
    "# Productor simple (Singleton!)\n",
    "# from kafka import KafkaProducer\n",
    "import kafka\n",
    "class KafkaProducerWrapper(object):\n",
    "  producer = None\n",
    "  @staticmethod\n",
    "  def getProducer(brokerList):\n",
    "    if KafkaProducerWrapper.producer != None:\n",
    "      return KafkaProducerWrapper.producer\n",
    "    else:\n",
    "      KafkaProducerWrapper.producer = kafka.KafkaProducer(bootstrap_servers=brokerList,\n",
    "                                                          key_serializer=str.encode,\n",
    "                                                          value_serializer=str.encode)\n",
    "      return KafkaProducerWrapper.producer\n",
    "\n",
    "# Envía métricas a Kafka! (salida)  \n",
    "def sendMetrics(itr):\n",
    "  prod = KafkaProducerWrapper.getProducer([kafkaBrokerIPPort])\n",
    "  for m in itr:\n",
    "    prod.send(\"metrics\", key=m[0], value=m[0]+\",\"+str(m[1]))\n",
    "  prod.flush()"
   ]
  },
  {
   "cell_type": "markdown",
   "metadata": {},
   "source": [
    "## 4.4 Fuente de datos - Lectura"
   ]
  },
  {
   "cell_type": "markdown",
   "metadata": {},
   "source": [
    "### Monitorización de un directorio"
   ]
  },
  {
   "cell_type": "code",
   "execution_count": 7,
   "metadata": {},
   "outputs": [],
   "source": [
    "# Fichero de texto: Lectura de fuente de datos de fichero (no se usa en este ejemplo, en su lugar \n",
    "# enviamos los datos a Kafka para crear una simulación más realista)\n",
    "stream = ssc.textFileStream(\"data/input\")"
   ]
  },
  {
   "cell_type": "code",
   "execution_count": 8,
   "metadata": {},
   "outputs": [],
   "source": [
    "#\"id\",\"date\",\"Temperature\",\"Humidity\",\"Light\",\"CO2\",\"HumidityRatio\",\"Occupancy\""
   ]
  },
  {
   "cell_type": "markdown",
   "metadata": {},
   "source": [
    "### Entrada de datos desde Kafka"
   ]
  },
  {
   "cell_type": "code",
   "execution_count": 9,
   "metadata": {},
   "outputs": [],
   "source": [
    "# Kafka: Lectura de datos\n",
    "kafkaParams = {\"metadata.broker.list\": kafkaBrokerIPPort}\n",
    "stream = KafkaUtils.createDirectStream(ssc, [\"test\"], kafkaParams)\n",
    "stream = stream.map(lambda o: str(o[1]))"
   ]
  },
  {
   "cell_type": "markdown",
   "metadata": {},
   "source": [
    "## SOLO PARA SALIDA A ARCHIVO DE TEXTO\n",
    "## Ejercicio 1: Calcular el promedio de valores de Temperatura, humedad relativa y concentración de CO2 para cada micro-batch y el promedio de dichos valores desde el arranque"
   ]
  },
  {
   "cell_type": "code",
   "execution_count": 10,
   "metadata": {},
   "outputs": [],
   "source": [
    "valores = stream.flatMap(parseOrder)"
   ]
  },
  {
   "cell_type": "code",
   "execution_count": 11,
   "metadata": {},
   "outputs": [],
   "source": [
    "valores.pprint()"
   ]
  },
  {
   "cell_type": "code",
   "execution_count": 11,
   "metadata": {},
   "outputs": [],
   "source": [
    "#Temp_mean = valores.map(lambda o: (o['Temperature'], 1)).reduceByKey(add)\n",
    "#Temp_mean = (valores.updateStateByKey(lambda vals, \n",
    "#                                      totalOpt: sum(vals) + totalOpt if totalOpt != None else sum(vals)))\n",
    "\n",
    "def mean_score(col):\n",
    "    return pd.Series([np.mean(col)] * len(col))\n",
    "\n",
    "#Temp_mean.repartition(1).saveAsTextFiles(\"data/output/metrics\", \"csv\")\n",
    "\n",
    "#lines = valores.map(lambda x: x[1])\n",
    "#counts = lines.map(lambda line: line.split(\"\\t\")) \\\n",
    "#              .reduceByKey(lambda a, b: a+b)\n",
    "\n",
    "Temp_mean.pprint()"
   ]
  },
  {
   "cell_type": "code",
   "execution_count": 12,
   "metadata": {},
   "outputs": [
    {
     "name": "stdout",
     "output_type": "stream",
     "text": [
      "-------------------------------------------\n",
      "Time: 2020-07-04 13:12:30\n",
      "-------------------------------------------\n",
      "{'id': '\"94\"', 'date': '\"2015-02-04 19:24:00\"', 'Temperature': '22.2', 'Humidity': '27.2', 'Light': '0', 'CO2': '580', 'HumidityRatio': '0.00450228274276464', 'Occupancy': '0\\n'}\n",
      "{'id': '\"95\"', 'date': '\"2015-02-04 19:25:00\"', 'Temperature': '22.1', 'Humidity': '27.15', 'Light': '0', 'CO2': '578', 'HumidityRatio': '0.00446645358141236', 'Occupancy': '0\\n'}\n",
      "{'id': '\"96\"', 'date': '\"2015-02-04 19:25:59\"', 'Temperature': '22.1', 'Humidity': '27.2', 'Light': '0', 'CO2': '576.5', 'HumidityRatio': '0.00447473826972372', 'Occupancy': '0\\n'}\n",
      "{'id': '\"97\"', 'date': '\"2015-02-04 19:27:00\"', 'Temperature': '22.1', 'Humidity': '27.2', 'Light': '0', 'CO2': '580', 'HumidityRatio': '0.00447473826972372', 'Occupancy': '0\\n'}\n",
      "\n",
      "-------------------------------------------\n",
      "Time: 2020-07-04 13:12:35\n",
      "-------------------------------------------\n",
      "{'id': '\"98\"', 'date': '\"2015-02-04 19:27:59\"', 'Temperature': '22.1', 'Humidity': '27.2', 'Light': '0', 'CO2': '572.5', 'HumidityRatio': '0.00447473826972372', 'Occupancy': '0\\n'}\n",
      "{'id': '\"99\"', 'date': '\"2015-02-04 19:28:59\"', 'Temperature': '22.1', 'Humidity': '27.2', 'Light': '0', 'CO2': '567', 'HumidityRatio': '0.00447473826972372', 'Occupancy': '0\\n'}\n",
      "{'id': '\"100\"', 'date': '\"2015-02-04 19:30:00\"', 'Temperature': '22.1', 'Humidity': '27.2', 'Light': '0', 'CO2': '568', 'HumidityRatio': '0.00447473826972372', 'Occupancy': '0\\n'}\n",
      "{'id': '\"101\"', 'date': '\"2015-02-04 19:31:00\"', 'Temperature': '22.1', 'Humidity': '27.2', 'Light': '0', 'CO2': '574.5', 'HumidityRatio': '0.00447473826972372', 'Occupancy': '0\\n'}\n",
      "{'id': '\"102\"', 'date': '\"2015-02-04 19:32:00\"', 'Temperature': '22.1', 'Humidity': '27.2', 'Light': '0', 'CO2': '564.333333333333', 'HumidityRatio': '0.00447473826972372', 'Occupancy': '0\\n'}\n",
      "{'id': '\"103\"', 'date': '\"2015-02-04 19:33:00\"', 'Temperature': '22.1', 'Humidity': '27.2', 'Light': '0', 'CO2': '563', 'HumidityRatio': '0.00447473826972372', 'Occupancy': '0\\n'}\n",
      "\n",
      "-------------------------------------------\n",
      "Time: 2020-07-04 13:12:40\n",
      "-------------------------------------------\n",
      "{'id': '\"104\"', 'date': '\"2015-02-04 19:34:00\"', 'Temperature': '22.1', 'Humidity': '27.15', 'Light': '0', 'CO2': '564.5', 'HumidityRatio': '0.00446645358141236', 'Occupancy': '0\\n'}\n",
      "{'id': '\"105\"', 'date': '\"2015-02-04 19:34:59\"', 'Temperature': '22.0666666666667', 'Humidity': '27.1666666666667', 'Light': '0', 'CO2': '566.333333333333', 'HumidityRatio': '0.00446007809167045', 'Occupancy': '0\\n'}\n",
      "{'id': '\"106\"', 'date': '\"2015-02-04 19:36:00\"', 'Temperature': '22.1', 'Humidity': '27.1', 'Light': '0', 'CO2': '562', 'HumidityRatio': '0.00445816911221647', 'Occupancy': '0\\n'}\n",
      "{'id': '\"107\"', 'date': '\"2015-02-04 19:37:00\"', 'Temperature': '22', 'Humidity': '27.1', 'Light': '0', 'CO2': '565.5', 'HumidityRatio': '0.00443087555124918', 'Occupancy': '0\\n'}\n",
      "{'id': '\"108\"', 'date': '\"2015-02-04 19:38:00\"', 'Temperature': '22', 'Humidity': '27.1', 'Light': '0', 'CO2': '570', 'HumidityRatio': '0.00443087555124918', 'Occupancy': '0\\n'}\n",
      "\n",
      "-------------------------------------------\n",
      "Time: 2020-07-04 13:12:45\n",
      "-------------------------------------------\n",
      "{'id': '\"109\"', 'date': '\"2015-02-04 19:38:59\"', 'Temperature': '22.05', 'Humidity': '27.15', 'Light': '0', 'CO2': '562', 'HumidityRatio': '0.00445276274636235', 'Occupancy': '0\\n'}\n",
      "{'id': '\"110\"', 'date': '\"2015-02-04 19:40:00\"', 'Temperature': '22', 'Humidity': '27.1', 'Light': '0', 'CO2': '560', 'HumidityRatio': '0.00443087555124918', 'Occupancy': '0\\n'}\n",
      "{'id': '\"111\"', 'date': '\"2015-02-04 19:40:59\"', 'Temperature': '22', 'Humidity': '27.1', 'Light': '0', 'CO2': '558', 'HumidityRatio': '0.00443087555124918', 'Occupancy': '0\\n'}\n",
      "{'id': '\"112\"', 'date': '\"2015-02-04 19:41:59\"', 'Temperature': '22', 'Humidity': '27.1', 'Light': '0', 'CO2': '556', 'HumidityRatio': '0.00443087555124918', 'Occupancy': '0\\n'}\n",
      "{'id': '\"113\"', 'date': '\"2015-02-04 19:43:00\"', 'Temperature': '22', 'Humidity': '27.1', 'Light': '0', 'CO2': '557', 'HumidityRatio': '0.00443087555124918', 'Occupancy': '0\\n'}\n",
      "\n",
      "-------------------------------------------\n",
      "Time: 2020-07-04 13:12:50\n",
      "-------------------------------------------\n",
      "{'id': '\"114\"', 'date': '\"2015-02-04 19:44:00\"', 'Temperature': '21.9175', 'Humidity': '27.1', 'Light': '0', 'CO2': '556.5', 'HumidityRatio': '0.00440846943162748', 'Occupancy': '0\\n'}\n",
      "{'id': '\"115\"', 'date': '\"2015-02-04 19:45:00\"', 'Temperature': '21.945', 'Humidity': '27.1', 'Light': '0', 'CO2': '557.5', 'HumidityRatio': '0.00441592700761485', 'Occupancy': '0\\n'}\n",
      "{'id': '\"116\"', 'date': '\"2015-02-04 19:46:00\"', 'Temperature': '21.9266666666667', 'Humidity': '27.1', 'Light': '0', 'CO2': '555', 'HumidityRatio': '0.00441095405497767', 'Occupancy': '0\\n'}\n",
      "{'id': '\"117\"', 'date': '\"2015-02-04 19:46:59\"', 'Temperature': '21.89', 'Humidity': '27.1', 'Light': '0', 'CO2': '555', 'HumidityRatio': '0.00440102296708593', 'Occupancy': '0\\n'}\n",
      "{'id': '\"118\"', 'date': '\"2015-02-04 19:47:59\"', 'Temperature': '21.89', 'Humidity': '27.1', 'Light': '0', 'CO2': '553', 'HumidityRatio': '0.00440102296708593', 'Occupancy': '0\\n'}\n",
      "\n",
      "-------------------------------------------\n",
      "Time: 2020-07-04 13:12:55\n",
      "-------------------------------------------\n",
      "{'id': '\"119\"', 'date': '\"2015-02-04 19:49:00\"', 'Temperature': '21.89', 'Humidity': '27.1', 'Light': '0', 'CO2': '549.5', 'HumidityRatio': '0.00440102296708593', 'Occupancy': '0\\n'}\n",
      "{'id': '\"120\"', 'date': '\"2015-02-04 19:50:00\"', 'Temperature': '21.89', 'Humidity': '27.1', 'Light': '0', 'CO2': '548.5', 'HumidityRatio': '0.00440102296708593', 'Occupancy': '0\\n'}\n",
      "{'id': '\"121\"', 'date': '\"2015-02-04 19:51:00\"', 'Temperature': '21.89', 'Humidity': '27.1', 'Light': '0', 'CO2': '551.5', 'HumidityRatio': '0.00440102296708593', 'Occupancy': '0\\n'}\n",
      "{'id': '\"122\"', 'date': '\"2015-02-04 19:52:00\"', 'Temperature': '21.89', 'Humidity': '27.1', 'Light': '0', 'CO2': '548.5', 'HumidityRatio': '0.00440102296708593', 'Occupancy': '0\\n'}\n",
      "{'id': '\"123\"', 'date': '\"2015-02-04 19:53:00\"', 'Temperature': '21.89', 'Humidity': '27.1', 'Light': '0', 'CO2': '548', 'HumidityRatio': '0.00440102296708593', 'Occupancy': '0\\n'}\n",
      "\n",
      "-------------------------------------------\n",
      "Time: 2020-07-04 13:13:00\n",
      "-------------------------------------------\n",
      "{'id': '\"124\"', 'date': '\"2015-02-04 19:53:59\"', 'Temperature': '21.89', 'Humidity': '27.1', 'Light': '0', 'CO2': '547.5', 'HumidityRatio': '0.00440102296708593', 'Occupancy': '0\\n'}\n",
      "{'id': '\"125\"', 'date': '\"2015-02-04 19:54:59\"', 'Temperature': '21.89', 'Humidity': '27.1', 'Light': '0', 'CO2': '553', 'HumidityRatio': '0.00440102296708593', 'Occupancy': '0\\n'}\n",
      "{'id': '\"126\"', 'date': '\"2015-02-04 19:56:00\"', 'Temperature': '21.84', 'Humidity': '27.1', 'Light': '0', 'CO2': '547.5', 'HumidityRatio': '0.00438751236133436', 'Occupancy': '0\\n'}\n",
      "{'id': '\"127\"', 'date': '\"2015-02-04 19:57:00\"', 'Temperature': '21.8566666666667', 'Humidity': '27.1', 'Light': '0', 'CO2': '548.666666666667', 'HumidityRatio': '0.00439201182580606', 'Occupancy': '0\\n'}\n",
      "{'id': '\"128\"', 'date': '\"2015-02-04 19:58:00\"', 'Temperature': '21.79', 'Humidity': '27.1', 'Light': '0', 'CO2': '540', 'HumidityRatio': '0.00437403835445405', 'Occupancy': '0\\n'}\n",
      "{'id': '\"129\"', 'date': '\"2015-02-04 19:59:00\"', 'Temperature': '21.79', 'Humidity': '27.1', 'Light': '0', 'CO2': '538', 'HumidityRatio': '0.00437403835445405', 'Occupancy': '0\\n'}\n",
      "\n",
      "-------------------------------------------\n",
      "Time: 2020-07-04 13:13:05\n",
      "-------------------------------------------\n",
      "{'id': '\"130\"', 'date': '\"2015-02-04 19:59:59\"', 'Temperature': '21.79', 'Humidity': '27.1', 'Light': '0', 'CO2': '542', 'HumidityRatio': '0.00437403835445405', 'Occupancy': '0\\n'}\n",
      "{'id': '\"131\"', 'date': '\"2015-02-04 20:00:59\"', 'Temperature': '21.79', 'Humidity': '27.1', 'Light': '0', 'CO2': '542', 'HumidityRatio': '0.00437403835445405', 'Occupancy': '0\\n'}\n",
      "{'id': '\"132\"', 'date': '\"2015-02-04 20:02:00\"', 'Temperature': '21.79', 'Humidity': '27.1', 'Light': '0', 'CO2': '538', 'HumidityRatio': '0.00437403835445405', 'Occupancy': '0\\n'}\n",
      "{'id': '\"133\"', 'date': '\"2015-02-04 20:03:00\"', 'Temperature': '21.79', 'Humidity': '27.1', 'Light': '0', 'CO2': '537.666666666667', 'HumidityRatio': '0.00437403835445405', 'Occupancy': '0\\n'}\n",
      "{'id': '\"134\"', 'date': '\"2015-02-04 20:04:00\"', 'Temperature': '21.79', 'Humidity': '27.1', 'Light': '0', 'CO2': '537.5', 'HumidityRatio': '0.00437403835445405', 'Occupancy': '0\\n'}\n",
      "\n"
     ]
    },
    {
     "name": "stdout",
     "output_type": "stream",
     "text": [
      "-------------------------------------------\n",
      "Time: 2020-07-04 13:13:10\n",
      "-------------------------------------------\n",
      "{'id': '\"135\"', 'date': '\"2015-02-04 20:05:00\"', 'Temperature': '21.79', 'Humidity': '27.1', 'Light': '0', 'CO2': '536', 'HumidityRatio': '0.00437403835445405', 'Occupancy': '0\\n'}\n",
      "{'id': '\"136\"', 'date': '\"2015-02-04 20:06:00\"', 'Temperature': '21.745', 'Humidity': '27.1', 'Light': '0', 'CO2': '534.5', 'HumidityRatio': '0.00436194296945302', 'Occupancy': '0\\n'}\n",
      "{'id': '\"137\"', 'date': '\"2015-02-04 20:06:59\"', 'Temperature': '21.7', 'Humidity': '27.1', 'Light': '0', 'CO2': '532.5', 'HumidityRatio': '0.00434987709774486', 'Occupancy': '0\\n'}\n",
      "{'id': '\"138\"', 'date': '\"2015-02-04 20:08:00\"', 'Temperature': '21.76', 'Humidity': '27.1', 'Light': '0', 'CO2': '530', 'HumidityRatio': '0.0043659714821212', 'Occupancy': '0\\n'}\n",
      "{'id': '\"139\"', 'date': '\"2015-02-04 20:09:00\"', 'Temperature': '21.745', 'Humidity': '27.05', 'Light': '0', 'CO2': '529.5', 'HumidityRatio': '0.00435383877122501', 'Occupancy': '0\\n'}\n",
      "{'id': '\"140\"', 'date': '\"2015-02-04 20:10:00\"', 'Temperature': '21.79', 'Humidity': '27.05', 'Light': '0', 'CO2': '531', 'HumidityRatio': '0.00436591152717108', 'Occupancy': '0\\n'}\n",
      "\n",
      "-------------------------------------------\n",
      "Time: 2020-07-04 13:13:15\n",
      "-------------------------------------------\n",
      "{'id': '\"141\"', 'date': '\"2015-02-04 20:10:59\"', 'Temperature': '21.73', 'Humidity': '27', 'Light': '0', 'CO2': '533.333333333333', 'HumidityRatio': '0.00434172461000499', 'Occupancy': '0\\n'}\n",
      "{'id': '\"142\"', 'date': '\"2015-02-04 20:12:00\"', 'Temperature': '21.745', 'Humidity': '27', 'Light': '0', 'CO2': '531', 'HumidityRatio': '0.004345734782707', 'Occupancy': '0\\n'}\n",
      "{'id': '\"143\"', 'date': '\"2015-02-04 20:12:59\"', 'Temperature': '21.745', 'Humidity': '27', 'Light': '0', 'CO2': '529', 'HumidityRatio': '0.004345734782707', 'Occupancy': '0\\n'}\n",
      "{'id': '\"144\"', 'date': '\"2015-02-04 20:13:59\"', 'Temperature': '21.745', 'Humidity': '27', 'Light': '0', 'CO2': '528.5', 'HumidityRatio': '0.004345734782707', 'Occupancy': '0\\n'}\n",
      "\n",
      "-------------------------------------------\n",
      "Time: 2020-07-04 13:13:20\n",
      "-------------------------------------------\n",
      "{'id': '\"145\"', 'date': '\"2015-02-04 20:15:00\"', 'Temperature': '21.7', 'Humidity': '27', 'Light': '0', 'CO2': '525', 'HumidityRatio': '0.00433371405578809', 'Occupancy': '0\\n'}\n",
      "{'id': '\"146\"', 'date': '\"2015-02-04 20:16:00\"', 'Temperature': '21.7', 'Humidity': '27', 'Light': '0', 'CO2': '528.5', 'HumidityRatio': '0.00433371405578809', 'Occupancy': '0\\n'}\n",
      "{'id': '\"147\"', 'date': '\"2015-02-04 20:17:00\"', 'Temperature': '21.7', 'Humidity': '27', 'Light': '0', 'CO2': '530.5', 'HumidityRatio': '0.00433371405578809', 'Occupancy': '0\\n'}\n",
      "{'id': '\"148\"', 'date': '\"2015-02-04 20:18:00\"', 'Temperature': '21.7', 'Humidity': '26.89', 'Light': '0', 'CO2': '528', 'HumidityRatio': '0.00431593567308493', 'Occupancy': '0\\n'}\n",
      "{'id': '\"149\"', 'date': '\"2015-02-04 20:19:00\"', 'Temperature': '21.7', 'Humidity': '26.89', 'Light': '0', 'CO2': '526', 'HumidityRatio': '0.00431593567308493', 'Occupancy': '0\\n'}\n",
      "{'id': '\"150\"', 'date': '\"2015-02-04 20:19:59\"', 'Temperature': '21.7', 'Humidity': '26.89', 'Light': '0', 'CO2': '530', 'HumidityRatio': '0.00431593567308493', 'Occupancy': '0\\n'}\n",
      "\n",
      "-------------------------------------------\n",
      "Time: 2020-07-04 13:13:25\n",
      "-------------------------------------------\n",
      "{'id': '\"151\"', 'date': '\"2015-02-04 20:21:00\"', 'Temperature': '21.7', 'Humidity': '26.89', 'Light': '0', 'CO2': '533.333333333333', 'HumidityRatio': '0.00431593567308493', 'Occupancy': '0\\n'}\n",
      "{'id': '\"152\"', 'date': '\"2015-02-04 20:22:00\"', 'Temperature': '21.7', 'Humidity': '26.89', 'Light': '0', 'CO2': '529', 'HumidityRatio': '0.00431593567308493', 'Occupancy': '0\\n'}\n",
      "{'id': '\"153\"', 'date': '\"2015-02-04 20:23:00\"', 'Temperature': '21.7', 'Humidity': '26.89', 'Light': '0', 'CO2': '528', 'HumidityRatio': '0.00431593567308493', 'Occupancy': '0\\n'}\n",
      "{'id': '\"154\"', 'date': '\"2015-02-04 20:23:59\"', 'Temperature': '21.7', 'Humidity': '26.89', 'Light': '0', 'CO2': '526', 'HumidityRatio': '0.00431593567308493', 'Occupancy': '0\\n'}\n",
      "{'id': '\"155\"', 'date': '\"2015-02-04 20:25:00\"', 'Temperature': '21.7', 'Humidity': '26.89', 'Light': '0', 'CO2': '526', 'HumidityRatio': '0.00431593567308493', 'Occupancy': '0\\n'}\n",
      "\n",
      "-------------------------------------------\n",
      "Time: 2020-07-04 13:13:30\n",
      "-------------------------------------------\n",
      "{'id': '\"156\"', 'date': '\"2015-02-04 20:25:59\"', 'Temperature': '21.7', 'Humidity': '26.79', 'Light': '0', 'CO2': '521', 'HumidityRatio': '0.00429977438278406', 'Occupancy': '0\\n'}\n",
      "{'id': '\"157\"', 'date': '\"2015-02-04 20:26:59\"', 'Temperature': '21.7', 'Humidity': '26.79', 'Light': '0', 'CO2': '518', 'HumidityRatio': '0.00429977438278406', 'Occupancy': '0\\n'}\n",
      "{'id': '\"158\"', 'date': '\"2015-02-04 20:28:00\"', 'Temperature': '21.7', 'Humidity': '26.79', 'Light': '0', 'CO2': '515.5', 'HumidityRatio': '0.00429977438278406', 'Occupancy': '0\\n'}\n",
      "{'id': '\"159\"', 'date': '\"2015-02-04 20:29:00\"', 'Temperature': '21.7', 'Humidity': '26.79', 'Light': '0', 'CO2': '520', 'HumidityRatio': '0.00429977438278406', 'Occupancy': '0\\n'}\n",
      "{'id': '\"160\"', 'date': '\"2015-02-04 20:30:00\"', 'Temperature': '21.7', 'Humidity': '26.7675', 'Light': '0', 'CO2': '523.5', 'HumidityRatio': '0.00429613820740729', 'Occupancy': '0\\n'}\n",
      "\n",
      "-------------------------------------------\n",
      "Time: 2020-07-04 13:13:35\n",
      "-------------------------------------------\n",
      "{'id': '\"161\"', 'date': '\"2015-02-04 20:31:00\"', 'Temperature': '21.7', 'Humidity': '26.79', 'Light': '0', 'CO2': '525.5', 'HumidityRatio': '0.00429977438278406', 'Occupancy': '0\\n'}\n",
      "{'id': '\"162\"', 'date': '\"2015-02-04 20:31:59\"', 'Temperature': '21.7', 'Humidity': '26.79', 'Light': '0', 'CO2': '525.5', 'HumidityRatio': '0.00429977438278406', 'Occupancy': '0\\n'}\n",
      "{'id': '\"163\"', 'date': '\"2015-02-04 20:32:59\"', 'Temperature': '21.7', 'Humidity': '26.79', 'Light': '0', 'CO2': '514', 'HumidityRatio': '0.00429977438278406', 'Occupancy': '0\\n'}\n",
      "{'id': '\"164\"', 'date': '\"2015-02-04 20:34:00\"', 'Temperature': '21.7', 'Humidity': '26.7', 'Light': '0', 'CO2': '518', 'HumidityRatio': '0.00428522993460374', 'Occupancy': '0\\n'}\n",
      "{'id': '\"165\"', 'date': '\"2015-02-04 20:35:00\"', 'Temperature': '21.7', 'Humidity': '26.7', 'Light': '0', 'CO2': '518', 'HumidityRatio': '0.00428522993460374', 'Occupancy': '0\\n'}\n",
      "\n",
      "-------------------------------------------\n",
      "Time: 2020-07-04 13:13:40\n",
      "-------------------------------------------\n",
      "{'id': '\"166\"', 'date': '\"2015-02-04 20:36:00\"', 'Temperature': '21.7', 'Humidity': '26.7', 'Light': '0', 'CO2': '520', 'HumidityRatio': '0.00428522993460374', 'Occupancy': '0\\n'}\n",
      "{'id': '\"167\"', 'date': '\"2015-02-04 20:37:00\"', 'Temperature': '21.6', 'Humidity': '26.7', 'Light': '0', 'CO2': '521', 'HumidityRatio': '0.00425892186208795', 'Occupancy': '0\\n'}\n",
      "{'id': '\"168\"', 'date': '\"2015-02-04 20:38:00\"', 'Temperature': '21.6', 'Humidity': '26.6', 'Light': '0', 'CO2': '518', 'HumidityRatio': '0.00424286203685278', 'Occupancy': '0\\n'}\n",
      "{'id': '\"169\"', 'date': '\"2015-02-04 20:38:59\"', 'Temperature': '21.6', 'Humidity': '26.65', 'Light': '0', 'CO2': '517', 'HumidityRatio': '0.00425089184650924', 'Occupancy': '0\\n'}\n",
      "{'id': '\"170\"', 'date': '\"2015-02-04 20:39:59\"', 'Temperature': '21.6', 'Humidity': '26.6', 'Light': '0', 'CO2': '511.5', 'HumidityRatio': '0.00424286203685278', 'Occupancy': '0\\n'}\n",
      "\n",
      "-------------------------------------------\n",
      "Time: 2020-07-04 13:13:45\n",
      "-------------------------------------------\n",
      "{'id': '\"171\"', 'date': '\"2015-02-04 20:41:00\"', 'Temperature': '21.65', 'Humidity': '26.65', 'Light': '0', 'CO2': '514', 'HumidityRatio': '0.00426400308494511', 'Occupancy': '0\\n'}\n",
      "{'id': '\"172\"', 'date': '\"2015-02-04 20:42:00\"', 'Temperature': '21.6', 'Humidity': '26.55', 'Light': '0', 'CO2': '515.5', 'HumidityRatio': '0.00423483243311065', 'Occupancy': '0\\n'}\n",
      "{'id': '\"173\"', 'date': '\"2015-02-04 20:43:00\"', 'Temperature': '21.6', 'Humidity': '26.5', 'Light': '0', 'CO2': '517', 'HumidityRatio': '0.00422680303527493', 'Occupancy': '0\\n'}\n",
      "{'id': '\"174\"', 'date': '\"2015-02-04 20:44:00\"', 'Temperature': '21.6', 'Humidity': '26.5', 'Light': '0', 'CO2': '515', 'HumidityRatio': '0.00422680303527493', 'Occupancy': '0\\n'}\n",
      "{'id': '\"175\"', 'date': '\"2015-02-04 20:44:59\"', 'Temperature': '21.6', 'Humidity': '26.5', 'Light': '0', 'CO2': '512', 'HumidityRatio': '0.00422680303527493', 'Occupancy': '0\\n'}\n",
      "\n"
     ]
    },
    {
     "name": "stdout",
     "output_type": "stream",
     "text": [
      "-------------------------------------------\n",
      "Time: 2020-07-04 13:13:50\n",
      "-------------------------------------------\n",
      "{'id': '\"176\"', 'date': '\"2015-02-04 20:45:59\"', 'Temperature': '21.6', 'Humidity': '26.5', 'Light': '0', 'CO2': '515', 'HumidityRatio': '0.00422680303527493', 'Occupancy': '0\\n'}\n",
      "{'id': '\"177\"', 'date': '\"2015-02-04 20:47:00\"', 'Temperature': '21.65', 'Humidity': '26.55', 'Light': '0', 'CO2': '511', 'HumidityRatio': '0.00424789380271014', 'Occupancy': '0\\n'}\n",
      "{'id': '\"178\"', 'date': '\"2015-02-04 20:48:00\"', 'Temperature': '21.6', 'Humidity': '26.5', 'Light': '0', 'CO2': '514', 'HumidityRatio': '0.00422680303527493', 'Occupancy': '0\\n'}\n",
      "{'id': '\"179\"', 'date': '\"2015-02-04 20:49:00\"', 'Temperature': '21.6', 'Humidity': '26.445', 'Light': '0', 'CO2': '508', 'HumidityRatio': '0.00421797093546809', 'Occupancy': '0\\n'}\n",
      "{'id': '\"180\"', 'date': '\"2015-02-04 20:50:00\"', 'Temperature': '21.6', 'Humidity': '26.4725', 'Light': '0', 'CO2': '509.75', 'HumidityRatio': '0.00422238695423002', 'Occupancy': '0\\n'}\n",
      "\n",
      "-------------------------------------------\n",
      "Time: 2020-07-04 13:13:55\n",
      "-------------------------------------------\n",
      "{'id': '\"181\"', 'date': '\"2015-02-04 20:51:00\"', 'Temperature': '21.6', 'Humidity': '26.445', 'Light': '0', 'CO2': '508.75', 'HumidityRatio': '0.00421797093546809', 'Occupancy': '0\\n'}\n",
      "{'id': '\"182\"', 'date': '\"2015-02-04 20:51:59\"', 'Temperature': '21.6', 'Humidity': '26.445', 'Light': '0', 'CO2': '508.5', 'HumidityRatio': '0.00421797093546809', 'Occupancy': '0\\n'}\n",
      "{'id': '\"183\"', 'date': '\"2015-02-04 20:53:00\"', 'Temperature': '21.6', 'Humidity': '26.39', 'Light': '0', 'CO2': '507', 'HumidityRatio': '0.00420913908478788', 'Occupancy': '0\\n'}\n",
      "{'id': '\"184\"', 'date': '\"2015-02-04 20:54:00\"', 'Temperature': '21.6', 'Humidity': '26.39', 'Light': '0', 'CO2': '507', 'HumidityRatio': '0.00420913908478788', 'Occupancy': '0\\n'}\n",
      "{'id': '\"185\"', 'date': '\"2015-02-04 20:55:00\"', 'Temperature': '21.6', 'Humidity': '26.39', 'Light': '0', 'CO2': '503.5', 'HumidityRatio': '0.00420913908478788', 'Occupancy': '0\\n'}\n",
      "\n"
     ]
    }
   ],
   "source": [
    "ssc.start()"
   ]
  },
  {
   "cell_type": "code",
   "execution_count": 13,
   "metadata": {},
   "outputs": [],
   "source": [
    "# Once you are done, stop the StreamingContext\n",
    "ssc.stop(False)"
   ]
  },
  {
   "cell_type": "code",
   "execution_count": null,
   "metadata": {},
   "outputs": [],
   "source": [
    "def aggregate_tags_count(new_values, total_sum):\n",
    "        return sum(new_values) + (total_sum or 0)\n",
    "    \n",
    "# divide cada Tweet en palabras\n",
    "words = dataStream.flatMap(lambda line: line.split(\" \"))\n",
    "# filtra las palabras para obtener solo hashtags, luego mapea cada hashtag para que sea un par de (hashtag,1)\n",
    "hashtags = words.filter(lambda w: '#' in w).map(lambda x: (x, 1))\n",
    "# agrega la cuenta de cada hashtag a su última cuenta\n",
    "tags_totals = hashtags.updateStateByKey(aggregate_tags_count)\n",
    "wordCounts.pprint()"
   ]
  },
  {
   "cell_type": "code",
   "execution_count": 12,
   "metadata": {},
   "outputs": [
    {
     "name": "stdout",
     "output_type": "stream",
     "text": [
      "-------------------------------------------\n",
      "Time: 2020-06-24 22:24:35\n",
      "-------------------------------------------\n",
      "{'id': '\"1781\"', 'date': '\"2015-02-05 23:31:00\"', 'Temperature': '20.39', 'Humidity': '21.29', 'Light': '0', 'CO2': '444.5', 'HumidityRatio': '0.00314694763447223', 'Occupancy': '0\\n'}\n",
      "{'id': '\"1782\"', 'date': '\"2015-02-05 23:31:59\"', 'Temperature': '20.3566666666667', 'Humidity': '21.29', 'Light': '0', 'CO2': '441.666666666667', 'HumidityRatio': '0.00314044248260255', 'Occupancy': '0\\n'}\n",
      "{'id': '\"1783\"', 'date': '\"2015-02-05 23:32:59\"', 'Temperature': '20.3566666666667', 'Humidity': '21.29', 'Light': '0', 'CO2': '442.333333333333', 'HumidityRatio': '0.00314044248260255', 'Occupancy': '0\\n'}\n",
      "{'id': '\"1784\"', 'date': '\"2015-02-05 23:34:00\"', 'Temperature': '20.39', 'Humidity': '21.29', 'Light': '0', 'CO2': '441', 'HumidityRatio': '0.00314694763447223', 'Occupancy': '0\\n'}\n",
      "{'id': '\"1785\"', 'date': '\"2015-02-05 23:35:00\"', 'Temperature': '20.29', 'Humidity': '21.29', 'Light': '0', 'CO2': '440.5', 'HumidityRatio': '0.00312746769855435', 'Occupancy': '0\\n'}\n",
      "{'id': '\"1786\"', 'date': '\"2015-02-05 23:36:00\"', 'Temperature': '20.39', 'Humidity': '21.29', 'Light': '0', 'CO2': '447', 'HumidityRatio': '0.00314694763447223', 'Occupancy': '0\\n'}\n",
      "{'id': '\"1787\"', 'date': '\"2015-02-05 23:37:00\"', 'Temperature': '20.34', 'Humidity': '21.29', 'Light': '0', 'CO2': '439.5', 'HumidityRatio': '0.00313719435010793', 'Occupancy': '0\\n'}\n",
      "\n",
      "-------------------------------------------\n",
      "Time: 2020-06-24 22:24:40\n",
      "-------------------------------------------\n",
      "{'id': '\"1788\"', 'date': '\"2015-02-05 23:38:00\"', 'Temperature': '20.29', 'Humidity': '21.29', 'Light': '0', 'CO2': '444', 'HumidityRatio': '0.00312746769855435', 'Occupancy': '0\\n'}\n",
      "{'id': '\"1789\"', 'date': '\"2015-02-05 23:38:59\"', 'Temperature': '20.29', 'Humidity': '21.29', 'Light': '0', 'CO2': '445.5', 'HumidityRatio': '0.00312746769855435', 'Occupancy': '0\\n'}\n",
      "{'id': '\"1790\"', 'date': '\"2015-02-05 23:39:59\"', 'Temperature': '20.29', 'Humidity': '21.29', 'Light': '0', 'CO2': '446.666666666667', 'HumidityRatio': '0.00312746769855435', 'Occupancy': '0\\n'}\n",
      "{'id': '\"1791\"', 'date': '\"2015-02-05 23:41:00\"', 'Temperature': '20.3233333333333', 'Humidity': '21.29', 'Light': '0', 'CO2': '444.333333333333', 'HumidityRatio': '0.00313394917681341', 'Occupancy': '0\\n'}\n",
      "{'id': '\"1792\"', 'date': '\"2015-02-05 23:42:00\"', 'Temperature': '20.29', 'Humidity': '21.29', 'Light': '0', 'CO2': '446.5', 'HumidityRatio': '0.00312746769855435', 'Occupancy': '0\\n'}\n",
      "\n",
      "-------------------------------------------\n",
      "Time: 2020-06-24 22:24:45\n",
      "-------------------------------------------\n",
      "{'id': '\"1793\"', 'date': '\"2015-02-05 23:43:00\"', 'Temperature': '20.3233333333333', 'Humidity': '21.29', 'Light': '0', 'CO2': '449.333333333333', 'HumidityRatio': '0.00313394917681341', 'Occupancy': '0\\n'}\n",
      "{'id': '\"1794\"', 'date': '\"2015-02-05 23:44:00\"', 'Temperature': '20.29', 'Humidity': '21.29', 'Light': '0', 'CO2': '445', 'HumidityRatio': '0.00312746769855435', 'Occupancy': '0\\n'}\n",
      "{'id': '\"1795\"', 'date': '\"2015-02-05 23:44:59\"', 'Temperature': '20.29', 'Humidity': '21.29', 'Light': '0', 'CO2': '447', 'HumidityRatio': '0.00312746769855435', 'Occupancy': '0\\n'}\n",
      "{'id': '\"1796\"', 'date': '\"2015-02-05 23:45:59\"', 'Temperature': '20.29', 'Humidity': '21.29', 'Light': '0', 'CO2': '443.5', 'HumidityRatio': '0.00312746769855435', 'Occupancy': '0\\n'}\n",
      "{'id': '\"1797\"', 'date': '\"2015-02-05 23:47:00\"', 'Temperature': '20.29', 'Humidity': '21.29', 'Light': '0', 'CO2': '447', 'HumidityRatio': '0.00312746769855435', 'Occupancy': '0\\n'}\n",
      "{'id': '\"1798\"', 'date': '\"2015-02-05 23:48:00\"', 'Temperature': '20.29', 'Humidity': '21.29', 'Light': '0', 'CO2': '445', 'HumidityRatio': '0.00312746769855435', 'Occupancy': '0\\n'}\n",
      "\n"
     ]
    }
   ],
   "source": [
    "ssc.start()"
   ]
  },
  {
   "cell_type": "code",
   "execution_count": 12,
   "metadata": {},
   "outputs": [
    {
     "name": "stdout",
     "output_type": "stream",
     "text": [
      "-------------------------------------------\n",
      "Time: 2020-06-24 22:22:00\n",
      "-------------------------------------------\n",
      "\"1621\",\"2015-02-05 20:51:00\",21,19.7,0,463.5,0.00302284822358619,0\n",
      "\n",
      "\"1622\",\"2015-02-05 20:51:59\",21,19.7,0,467.5,0.00302284822358619,0\n",
      "\n",
      "\"1623\",\"2015-02-05 20:53:00\",21,19.7,0,476,0.00302284822358619,0\n",
      "\n",
      "\"1624\",\"2015-02-05 20:54:00\",21,19.76,0,474,0.00303209974808914,0\n",
      "\n",
      "\n",
      "-------------------------------------------\n",
      "Time: 2020-06-24 22:22:05\n",
      "-------------------------------------------\n",
      "\"1625\",\"2015-02-05 20:55:00\",21,19.79,0,471,0.00303672561304647,0\n",
      "\n",
      "\"1626\",\"2015-02-05 20:55:59\",21,19.79,0,472,0.00303672561304647,0\n",
      "\n",
      "\"1627\",\"2015-02-05 20:57:00\",21,19.79,0,472,0.00303672561304647,0\n",
      "\n",
      "\"1628\",\"2015-02-05 20:57:59\",21,19.79,0,474.25,0.00303672561304647,0\n",
      "\n",
      "\"1629\",\"2015-02-05 20:58:59\",20.9725,19.79,0,473,0.00303157119548328,0\n",
      "\n",
      "\n",
      "-------------------------------------------\n",
      "Time: 2020-06-24 22:22:10\n",
      "-------------------------------------------\n",
      "\"1630\",\"2015-02-05 21:00:00\",21,19.79,0,469,0.00303672561304647,0\n",
      "\n",
      "\"1631\",\"2015-02-05 21:01:00\",20.9633333333333,19.79,0,472.666666666667,0.00302985476836808,0\n",
      "\n",
      "\"1632\",\"2015-02-05 21:02:00\",21,19.79,0,473,0.00303672561304647,0\n",
      "\n",
      "\"1633\",\"2015-02-05 21:03:00\",20.89,19.79,0,471.5,0.00301615411603875,0\n",
      "\n",
      "\"1634\",\"2015-02-05 21:04:00\",20.9633333333333,19.79,0,471.333333333333,0.00302985476836808,0\n",
      "\n",
      "\n",
      "-------------------------------------------\n",
      "Time: 2020-06-24 22:22:15\n",
      "-------------------------------------------\n",
      "\"1635\",\"2015-02-05 21:04:59\",21,19.79,0,469,0.00303672561304647,0\n",
      "\n",
      "\"1636\",\"2015-02-05 21:06:00\",20.89,19.89,0,471,0.00303146919477111,0\n",
      "\n",
      "\"1637\",\"2015-02-05 21:07:00\",20.89,19.84,0,470,0.00302381156158785,0\n",
      "\n",
      "\"1638\",\"2015-02-05 21:08:00\",20.89,19.89,0,469.5,0.00303146919477111,0\n",
      "\n",
      "\"1639\",\"2015-02-05 21:08:59\",20.89,19.89,0,464,0.00303146919477111,0\n",
      "\n",
      "\n",
      "-------------------------------------------\n",
      "Time: 2020-06-24 22:22:20\n",
      "-------------------------------------------\n",
      "\"1640\",\"2015-02-05 21:10:00\",20.89,19.89,0,467,0.00303146919477111,0\n",
      "\n",
      "\"1641\",\"2015-02-05 21:10:59\",20.89,19.9266666666667,0,472,0.00303708491169476,0\n",
      "\n",
      "\"1642\",\"2015-02-05 21:11:59\",20.89,19.945,0,469.5,0.00303989280799839,0\n",
      "\n",
      "\"1643\",\"2015-02-05 21:13:00\",20.89,20,0,470.5,0.00304831664828052,0\n",
      "\n",
      "\"1644\",\"2015-02-05 21:14:00\",20.89,20,0,470,0.00304831664828052,0\n",
      "\n",
      "\"1645\",\"2015-02-05 21:15:00\",20.89,20,0,469,0.00304831664828052,0\n",
      "\n",
      "\n",
      "-------------------------------------------\n",
      "Time: 2020-06-24 22:22:25\n",
      "-------------------------------------------\n",
      "\"1646\",\"2015-02-05 21:16:00\",20.89,20,0,468.5,0.00304831664828052,0\n",
      "\n",
      "\"1647\",\"2015-02-05 21:16:59\",20.89,20,0,467.333333333333,0.00304831664828052,0\n",
      "\n",
      "\"1648\",\"2015-02-05 21:17:59\",20.89,20,0,467,0.00304831664828052,0\n",
      "\n",
      "\"1649\",\"2015-02-05 21:19:00\",20.89,20,0,464,0.00304831664828052,0\n",
      "\n",
      "\"1650\",\"2015-02-05 21:20:00\",20.89,20,0,462,0.00304831664828052,0\n",
      "\n",
      "\n",
      "-------------------------------------------\n",
      "Time: 2020-06-24 22:22:30\n",
      "-------------------------------------------\n",
      "\"1651\",\"2015-02-05 21:21:00\",20.89,20,0,466,0.00304831664828052,0\n",
      "\n",
      "\"1652\",\"2015-02-05 21:22:00\",20.89,20,0,465.5,0.00304831664828052,0\n",
      "\n",
      "\"1653\",\"2015-02-05 21:23:00\",20.79,20,0,464,0.0030295225859519,0\n",
      "\n",
      "\"1654\",\"2015-02-05 21:23:59\",20.89,20,0,469.666666666667,0.00304831664828052,0\n",
      "\n",
      "\"1655\",\"2015-02-05 21:24:59\",20.89,20.1,0,469.5,0.00306363330326149,0\n",
      "\n",
      "\"1656\",\"2015-02-05 21:26:00\",20.89,20.1,0,472,0.00306363330326149,0\n",
      "\n",
      "\n",
      "-------------------------------------------\n",
      "Time: 2020-06-24 22:22:35\n",
      "-------------------------------------------\n",
      "\"1657\",\"2015-02-05 21:27:00\",20.89,20.1,0,464.5,0.00306363330326149,0\n",
      "\n",
      "\"1658\",\"2015-02-05 21:28:00\",20.89,20.1,0,467,0.00306363330326149,0\n",
      "\n",
      "\"1659\",\"2015-02-05 21:29:00\",20.89,20.1,0,467,0.00306363330326149,0\n",
      "\n",
      "\"1660\",\"2015-02-05 21:29:59\",20.89,20.1,0,462,0.00306363330326149,0\n",
      "\n",
      "\"1661\",\"2015-02-05 21:30:59\",20.89,20.15,0,464.5,0.00307129191225357,0\n",
      "\n",
      "\n",
      "-------------------------------------------\n",
      "Time: 2020-06-24 22:22:40\n",
      "-------------------------------------------\n",
      "\"1662\",\"2015-02-05 21:32:00\",20.79,20.05,0,460,0.00303713337418589,0\n",
      "\n",
      "\"1663\",\"2015-02-05 21:33:00\",20.89,20.2,0,457,0.00307895070892257,0\n",
      "\n",
      "\"1664\",\"2015-02-05 21:34:00\",20.79,20.1,0,461,0.00304474434777049,0\n",
      "\n",
      "\"1665\",\"2015-02-05 21:35:00\",20.79,20.1,0,462,0.00304474434777049,0\n",
      "\n",
      "\"1666\",\"2015-02-05 21:36:00\",20.79,20.15,0,463.5,0.00305235550671248,0\n",
      "\n",
      "\n",
      "-------------------------------------------\n",
      "Time: 2020-06-24 22:22:45\n",
      "-------------------------------------------\n",
      "\"1667\",\"2015-02-05 21:36:59\",20.79,20.2,0,461.5,0.00305996685101862,0\n",
      "\n",
      "\"1668\",\"2015-02-05 21:38:00\",20.79,20.2,0,461.5,0.00305996685101862,0\n",
      "\n",
      "\"1669\",\"2015-02-05 21:39:00\",20.79,20.2,0,458,0.00305996685101862,0\n",
      "\n",
      "\"1670\",\"2015-02-05 21:40:00\",20.79,20.2,0,460,0.00305996685101862,0\n",
      "\n",
      "\"1671\",\"2015-02-05 21:40:59\",20.79,20.245,0,460,0.00306681721938609,0\n",
      "\n",
      "\n",
      "-------------------------------------------\n",
      "Time: 2020-06-24 22:22:50\n",
      "-------------------------------------------\n",
      "\"1672\",\"2015-02-05 21:42:00\",20.79,20.29,0,460.5,0.00307366773790896,0\n",
      "\n",
      "\"1673\",\"2015-02-05 21:42:59\",20.745,20.29,0,460,0.0030651203870119,0\n",
      "\n",
      "\"1674\",\"2015-02-05 21:43:59\",20.79,20.29,0,457,0.00307366773790896,0\n",
      "\n",
      "\"1675\",\"2015-02-05 21:45:00\",20.745,20.34,0,460.5,0.00307271097901383,0\n",
      "\n",
      "\"1676\",\"2015-02-05 21:46:00\",20.7,20.39,0,461,0.00307173289826042,0\n",
      "\n",
      "\"1677\",\"2015-02-05 21:47:00\",20.745,20.39,0,458.5,0.00308030175537347,0\n",
      "\n",
      "\n"
     ]
    }
   ],
   "source": [
    "ssc.start()"
   ]
  },
  {
   "cell_type": "markdown",
   "metadata": {},
   "source": [
    "## SOLO PARA SALIDA HACIA TOPIC DE KAFKA\n",
    "## Ejercicio 2: Calcula los 5 clientes en el top de ranking (por volumen de órdenes)"
   ]
  },
  {
   "cell_type": "code",
   "execution_count": 11,
   "metadata": {},
   "outputs": [],
   "source": [
    "orders = stream.flatMap(parseOrder)\n",
    "\n",
    "numPerType = orders.map(lambda o: (o['buy'], 1)).reduceByKey(add)\n",
    "\n",
    "amountPerClient = orders.map(lambda o: (o['clientId'], o['amount'] * o['price']))\n",
    "\n",
    "amountState = (amountPerClient.updateStateByKey(lambda vals, \n",
    "                                                totalOpt: sum(vals) + totalOpt if totalOpt != None else sum(vals)))\n",
    "top5clients = amountState.transform(lambda rdd: rdd.sortBy(lambda x: x[1], False).map(lambda x: x[0]).zipWithIndex().filter(lambda x: x[1] < 5))\n",
    "\n",
    "buySellList = numPerType.map(lambda t: (\"BUYS\", [str(t[1])]) if t[0]==\"B\" else (\"SELLS\", [str(t[1])]) )\n",
    "top5clList = top5clients.repartition(1).map(lambda x: str(x[0])).glom().map(lambda arr: (\"TOP5CLIENTS\", arr))\n",
    "\n",
    "finalStream = buySellList.union(top5clList)\n",
    "\n",
    "finalStream.foreachRDD(lambda rdd: rdd.foreachPartition(sendMetrics))\n",
    "\n",
    "sc.setCheckpointDir(\"data/checkpoint/\")"
   ]
  },
  {
   "cell_type": "markdown",
   "metadata": {},
   "source": [
    "## Ejercicio 3: Calcular las acciones más solicitadas por duración (Pista: Operación por ventana)"
   ]
  },
  {
   "cell_type": "code",
   "execution_count": 12,
   "metadata": {},
   "outputs": [],
   "source": [
    "orders = stream.flatMap(parseOrder)\n",
    "\n",
    "# Cálculo de resumen de compra-venta\n",
    "numPerType = orders.map(lambda o: (o['buy'], 1)).reduceByKey(add)\n",
    "\n",
    "# Cálculo de 5 clientes más activo (con memoria)\n",
    "amountPerClient = orders.map(lambda o: (o['clientId'], o['amount']*o['price']))\n",
    "\n",
    "amountState = amountPerClient.updateStateByKey(lambda vals, totalOpt: sum(vals)+totalOpt if totalOpt != None else sum(vals))\n",
    "top5clients = amountState.transform(lambda rdd: rdd.sortBy(lambda x: x[1], False).map(lambda x: x[0])\\\n",
    "                                    .zipWithIndex().filter(lambda x: x[1] < 5))\n",
    "\n",
    "# Lista de valores más comprados/vendidos (window operation)\n",
    "buySellList = numPerType.map(lambda t: (\"BUYS\", [str(t[1])]) if t[0]==\"B\" else (\"SELLS\", [str(t[1])]) )\n",
    "top5clList = top5clients.repartition(1).map(lambda x: str(x[0])).glom().map(lambda arr: (\"TOP5CLIENTS\", arr))\n",
    "\n",
    "#stocksWindow = orders.map(lambda x: (x['symbol'], x['amount'])).window(50)\n",
    "#stocksPerWindow = stocksWindow.reduceByKey(add)\n",
    "stocksPerWindow = orders.map(lambda x: (x['symbol'], x['amount'])).reduceByKeyAndWindow(add, sub, windowDuration=50)\n",
    "\n",
    "topStocks = stocksPerWindow.transform(lambda rdd: rdd.sortBy(lambda x: x[1], False).map(lambda x: x[0])\\\n",
    "                                      .zipWithIndex().filter(lambda x: x[1] < 5)).repartition(1)\\\n",
    "                                      .map(lambda x: str(x[0])).glom().map(lambda arr: (\"TOP5STOCKS\", arr))\n",
    "\n",
    "finalStream = buySellList.union(top5clList).union(topStocks)\n",
    "\n",
    "finalStream.foreachRDD(lambda rdd: rdd.foreachPartition(sendMetrics))\n",
    "\n",
    "sc.setCheckpointDir(\"data/checkpoint/\")\n"
   ]
  },
  {
   "cell_type": "markdown",
   "metadata": {},
   "source": [
    "## Start Streaming context"
   ]
  },
  {
   "cell_type": "code",
   "execution_count": 15,
   "metadata": {},
   "outputs": [],
   "source": [
    "ssc.start()\n",
    "#kafka.errors.UnrecognizedBrokerVersion: UnrecognizedBrokerVersion\n",
    "#ssc.awaitTerminationOrTimeout(10)  # Espera 10 segs. antes de acabar"
   ]
  },
  {
   "cell_type": "markdown",
   "metadata": {},
   "source": [
    "## Stop Streaming Context"
   ]
  },
  {
   "cell_type": "code",
   "execution_count": 16,
   "metadata": {},
   "outputs": [],
   "source": [
    "ssc.stop(False)"
   ]
  },
  {
   "cell_type": "code",
   "execution_count": null,
   "metadata": {},
   "outputs": [],
   "source": [
    "from datetime import datetime\n",
    "\n",
    "def parseOrder(line):\n",
    "  s = line.split(\",\")\n",
    "  try:\n",
    "      return [{\"id\": s[0],\n",
    "               \"date\": datetime.strptime(s[1], \"%Y-%m-%d %H:%M:%S\"),\n",
    "               \"Temperature\": float(s[2]), \n",
    "               \"Humidity\": float(s[3]),\n",
    "               \"Light\": s[4],\n",
    "               \"CO2\": float(s[5]),\n",
    "               \"HumidityRatio\": float(s[6]),\n",
    "               \"Occupancy\": s[7]}]\n",
    "\n",
    "  except Exception as err:\n",
    "      print(\"Wrong line format (%s): \" % line)\n",
    "      return []"
   ]
  }
 ],
 "metadata": {
  "kernelspec": {
   "display_name": "Python 3",
   "language": "python",
   "name": "python3"
  },
  "language_info": {
   "codemirror_mode": {
    "name": "ipython",
    "version": 3
   },
   "file_extension": ".py",
   "mimetype": "text/x-python",
   "name": "python",
   "nbconvert_exporter": "python",
   "pygments_lexer": "ipython3",
   "version": "3.7.6"
  }
 },
 "nbformat": 4,
 "nbformat_minor": 2
}
