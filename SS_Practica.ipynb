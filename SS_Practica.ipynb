{
 "cells": [
  {
   "cell_type": "code",
   "execution_count": 1,
   "metadata": {},
   "outputs": [],
   "source": [
    "import os\n",
    "from pyspark import SparkContext\n",
    "from pyspark.streaming import StreamingContext\n",
    "from pyspark.streaming.kafka import KafkaUtils\n",
    "from pyspark.sql import SparkSession\n",
    "from pyspark.sql import Window\n",
    "from pyspark.sql.types import *\n",
    "import pyspark.sql.functions as func\n",
    "from datetime import datetime\n",
    "from operator import add\n",
    "from operator import sub\n",
    "from pyspark.sql.functions import *"
   ]
  },
  {
   "cell_type": "code",
   "execution_count": 2,
   "metadata": {},
   "outputs": [
    {
     "data": {
      "text/plain": [
       "'2.4.5'"
      ]
     },
     "execution_count": 2,
     "metadata": {},
     "output_type": "execute_result"
    }
   ],
   "source": [
    "# Check pyspark version, it should be \"latest\"\n",
    "import pyspark\n",
    "pyspark.__version__"
   ]
  },
  {
   "cell_type": "code",
   "execution_count": 3,
   "metadata": {},
   "outputs": [
    {
     "name": "stdout",
     "output_type": "stream",
     "text": [
      "PYSPARK_SUBMIT_ARGS =  --packages org.apache.spark:spark-sql-kafka-0-10_2.11:2.4.5 pyspark-shell \n",
      "\n",
      "JAVA_HOME =  /Library/Java/JavaVirtualMachines/jdk1.8.0_31.jdk/Contents/Home\n"
     ]
    }
   ],
   "source": [
    "#packages = \"org.apache.spark:spark-streaming-kafka-0-8_2.11:2.4.5\"\n",
    "packages = \"org.apache.spark:spark-sql-kafka-0-10_2.11:2.4.5\"\n",
    "os.environ[\"PYSPARK_SUBMIT_ARGS\"] = (f\"--packages {packages} pyspark-shell\")\n",
    "# THIS IS COMPULSORY\n",
    "# Comment the line below if JAVA_HOME is already set up or you\n",
    "# only have a single JVM version in your system\n",
    "# os.environ[\"JAVA_HOME\"] = \"/usr/lib/jvm/java-8-openjdk-amd64\"\n",
    "\n",
    "# OPTIONAL: Check setup of environment variables\n",
    "print(\"PYSPARK_SUBMIT_ARGS = \",os.environ[\"PYSPARK_SUBMIT_ARGS\"],\"\\n\")\n",
    "print(\"JAVA_HOME = \", os.environ[\"JAVA_HOME\"])"
   ]
  },
  {
   "cell_type": "code",
   "execution_count": 4,
   "metadata": {},
   "outputs": [
    {
     "data": {
      "text/html": [
       "\n",
       "            <div>\n",
       "                <p><b>SparkSession - in-memory</b></p>\n",
       "                \n",
       "        <div>\n",
       "            <p><b>SparkContext</b></p>\n",
       "\n",
       "            <p><a href=\"http://192.168.1.33:4040\">Spark UI</a></p>\n",
       "\n",
       "            <dl>\n",
       "              <dt>Version</dt>\n",
       "                <dd><code>v2.4.5</code></dd>\n",
       "              <dt>Master</dt>\n",
       "                <dd><code>local[*]</code></dd>\n",
       "              <dt>AppName</dt>\n",
       "                <dd><code>StructuredStreamingUCI</code></dd>\n",
       "            </dl>\n",
       "        </div>\n",
       "        \n",
       "            </div>\n",
       "        "
      ],
      "text/plain": [
       "<pyspark.sql.session.SparkSession at 0x7f8c69bc1dd8>"
      ]
     },
     "execution_count": 4,
     "metadata": {},
     "output_type": "execute_result"
    }
   ],
   "source": [
    "spark = (SparkSession\n",
    "    .builder\n",
    "    .appName(\"StructuredStreamingUCI\")\n",
    "    .getOrCreate())\n",
    "\n",
    "spark"
   ]
  },
  {
   "cell_type": "code",
   "execution_count": null,
   "metadata": {},
   "outputs": [],
   "source": []
  },
  {
   "cell_type": "code",
   "execution_count": 5,
   "metadata": {},
   "outputs": [],
   "source": [
    "df = (spark\n",
    "        .readStream\n",
    "        .format(\"kafka\")\n",
    "        .option(\"kafka.bootstrap.servers\", \"localhost:9092\")\n",
    "        .option(\"sep\", \",\")\n",
    "        .option(\"subscribe\", \"test\")\n",
    "        .load())"
   ]
  },
  {
   "cell_type": "code",
   "execution_count": 6,
   "metadata": {},
   "outputs": [
    {
     "name": "stdout",
     "output_type": "stream",
     "text": [
      "root\n",
      " |-- key: binary (nullable = true)\n",
      " |-- value: binary (nullable = true)\n",
      " |-- topic: string (nullable = true)\n",
      " |-- partition: integer (nullable = true)\n",
      " |-- offset: long (nullable = true)\n",
      " |-- timestamp: timestamp (nullable = true)\n",
      " |-- timestampType: integer (nullable = true)\n",
      "\n"
     ]
    }
   ],
   "source": [
    "df.printSchema()"
   ]
  },
  {
   "cell_type": "code",
   "execution_count": 7,
   "metadata": {},
   "outputs": [],
   "source": [
    "df = df.selectExpr('CAST(value AS STRING)')\n",
    "\n",
    "df_data = df.select(\n",
    "        split(df.value, ',')[0].alias(\"row\").cast(StringType()),\n",
    "        split(df.value, ',')[1].alias(\"date\").cast(StringType()),\n",
    "        split(df.value, ',')[2].alias(\"Temperature\").cast(DoubleType()),\n",
    "        split(df.value, ',')[3].alias(\"Humidity\").cast(DoubleType()),\n",
    "        split(df.value, ',')[4].alias(\"Light\").cast(DoubleType()),\n",
    "        split(df.value, ',')[5].alias(\"CO2\").cast(DoubleType()),\n",
    "        split(df.value, ',')[6].alias(\"HumidityRatio\").cast(DoubleType()),\n",
    "        split(df.value, ',')[7].alias(\"Occupancy\").cast(BooleanType()))"
   ]
  },
  {
   "cell_type": "code",
   "execution_count": 8,
   "metadata": {},
   "outputs": [],
   "source": [
    "df_data = df_data.withColumn(\"date\", regexp_replace(col(\"date\"), '\"', ''))\n",
    "df_data = df_data.withColumn('date',to_timestamp(\"date\", \"yyyy-MM-dd HH:mm:ss\"))"
   ]
  },
  {
   "cell_type": "code",
   "execution_count": 9,
   "metadata": {},
   "outputs": [],
   "source": [
    "df_data = df_data.withColumn(\"row\", regexp_replace(col(\"row\"), '\"', ''))\n",
    "df_data = df_data.withColumn(\"row\",df_data[\"row\"].cast(IntegerType()))"
   ]
  },
  {
   "cell_type": "code",
   "execution_count": 10,
   "metadata": {},
   "outputs": [
    {
     "name": "stdout",
     "output_type": "stream",
     "text": [
      "root\n",
      " |-- row: integer (nullable = true)\n",
      " |-- date: timestamp (nullable = true)\n",
      " |-- Temperature: double (nullable = true)\n",
      " |-- Humidity: double (nullable = true)\n",
      " |-- Light: double (nullable = true)\n",
      " |-- CO2: double (nullable = true)\n",
      " |-- HumidityRatio: double (nullable = true)\n",
      " |-- Occupancy: boolean (nullable = true)\n",
      "\n"
     ]
    }
   ],
   "source": [
    "df_data.printSchema()"
   ]
  },
  {
   "cell_type": "markdown",
   "metadata": {},
   "source": [
    "Ejercicio 1: Calcular el promedio de valores de Temperatura, humedad relativa y concentración de CO2 para cada micro-batch y el promedio de dichos valores desde el arranque"
   ]
  },
  {
   "cell_type": "code",
   "execution_count": 9,
   "metadata": {},
   "outputs": [],
   "source": [
    "\n",
    "result_1_1 = (df_data.agg(\n",
    "                        avg(col(\"Temperature\")).alias('MB-AVG Temperature'),\n",
    "                        avg(col(\"Humidity\")).alias('MB-AVG Humidity'),\n",
    "                        avg(col(\"CO2\")).alias('MB-AVG CO2')\n",
    "                        )\n",
    "                     .writeStream\n",
    "                     .format('console')\n",
    "                     .trigger(processingTime= '5 seconds')\n",
    "                     .outputMode(\"update\")\n",
    "                     .start())\n",
    "#result_1_1.awaitTermination()\n"
   ]
  },
  {
   "cell_type": "code",
   "execution_count": 35,
   "metadata": {},
   "outputs": [],
   "source": [
    "result_1_2 = (df_data.agg(\n",
    "                        avg(col(\"Temperature\")).alias('AVG Temperature'),\n",
    "                        avg(col(\"Humidity\")).alias('AVG Humidity'),\n",
    "                        avg(col(\"CO2\")).alias('AVG CO2')\n",
    "                        )\n",
    "                 .writeStream\n",
    "                 .format('console')\n",
    "                 .trigger(processingTime= '5 seconds')\n",
    "                 .outputMode(\"complete\")\n",
    "                 .start())"
   ]
  },
  {
   "cell_type": "markdown",
   "metadata": {},
   "source": [
    "Ejercicio 2: Calcular el promedio de luminosidad en la estancia en ventanas deslizantes de tamaño 45\n",
    "segundos, con un valor de deslizamiento de 15 segundos entre ventanas consecutivas."
   ]
  },
  {
   "cell_type": "code",
   "execution_count": 10,
   "metadata": {},
   "outputs": [],
   "source": [
    "result_2 = (df_data.groupBy(window(col(\"date\"), \"45 seconds\", \"15 seconds\"))\n",
    "                   .agg(avg('Light').alias('Light_avg'))\n",
    "                   .writeStream\\\n",
    "                   .format('console')\\\n",
    "                   .trigger(processingTime= '5 seconds')\\\n",
    "                   .outputMode(\"update\")\\\n",
    "                   .start())\n",
    "#.avg(\"Light\")"
   ]
  },
  {
   "cell_type": "markdown",
   "metadata": {},
   "source": [
    "Examinando los datos, podemos apreciar que el intervalo entre muestras originales no es exactamente de 1 minuto en muchos casos. Calcular el número de parejas de muestras consecutivas en cada micro-batch entre las cuales el intervalo de separación no es exactamente de 1 minuto."
   ]
  },
  {
   "cell_type": "code",
   "execution_count": null,
   "metadata": {},
   "outputs": [],
   "source": []
  },
  {
   "cell_type": "code",
   "execution_count": 18,
   "metadata": {},
   "outputs": [],
   "source": [
    "df1_ww = (df_data.withColumn(\"row\", col(\"row\") + 1)\n",
    "              .selectExpr(\"row AS row_id\", \"date AS endTime\") \n",
    "              .withWatermark(\"endTime\", \"1 minutes\")\n",
    "          )\n",
    "\n",
    "df2_ww = (df_data.selectExpr(\"row\", \"date AS startTime\")       \n",
    "                 .withWatermark(\"startTime\", \"1 minutes\")\n",
    "          )\n",
    "\n",
    "\n",
    "# Join with event-time constraints\n",
    "df = (df1_ww\n",
    "      .join(df2_ww, expr(\"\"\" \n",
    "                         row_id = row AND \n",
    "                         startTime > endTime AND\n",
    "                         startTime < endTime + interval 1 minutes\n",
    "                         \"\"\"))\n",
    "      .groupBy(\"startTime\")\n",
    "      .count()\n",
    "                 .writeStream\n",
    "                 .format('console')\n",
    "                 .trigger(processingTime= '5 seconds')\n",
    "                 .outputMode(\"append\")\n",
    "                 .start()\n",
    ")\n"
   ]
  },
  {
   "cell_type": "code",
   "execution_count": 17,
   "metadata": {},
   "outputs": [],
   "source": [
    "df.stop()"
   ]
  },
  {
   "cell_type": "markdown",
   "metadata": {},
   "source": [
    "Opcion con Spark streaming "
   ]
  },
  {
   "cell_type": "code",
   "execution_count": 20,
   "metadata": {},
   "outputs": [],
   "source": []
  },
  {
   "cell_type": "code",
   "execution_count": 3,
   "metadata": {},
   "outputs": [
    {
     "name": "stdout",
     "output_type": "stream",
     "text": [
      "PYSPARK_SUBMIT_ARGS =  --packages org.apache.spark:spark-streaming-kafka-0-8_2.11:2.4.5 pyspark-shell \n",
      "\n",
      "JAVA_HOME =  /Library/Java/JavaVirtualMachines/jdk1.8.0_31.jdk/Contents/Home\n"
     ]
    }
   ],
   "source": [
    "packages = \"org.apache.spark:spark-streaming-kafka-0-8_2.11:2.4.5\"\n",
    "os.environ[\"PYSPARK_SUBMIT_ARGS\"] = (\n",
    "    \"--packages {0} pyspark-shell\".format(packages)\n",
    ")\n",
    "print(\"PYSPARK_SUBMIT_ARGS = \",os.environ[\"PYSPARK_SUBMIT_ARGS\"],\"\\n\")\n",
    "print(\"JAVA_HOME = \", os.environ[\"JAVA_HOME\"])"
   ]
  },
  {
   "cell_type": "code",
   "execution_count": 4,
   "metadata": {},
   "outputs": [
    {
     "data": {
      "text/html": [
       "\n",
       "            <div>\n",
       "                <p><b>SparkSession - in-memory</b></p>\n",
       "                \n",
       "        <div>\n",
       "            <p><b>SparkContext</b></p>\n",
       "\n",
       "            <p><a href=\"http://192.168.1.33:4040\">Spark UI</a></p>\n",
       "\n",
       "            <dl>\n",
       "              <dt>Version</dt>\n",
       "                <dd><code>v2.4.5</code></dd>\n",
       "              <dt>Master</dt>\n",
       "                <dd><code>local[*]</code></dd>\n",
       "              <dt>AppName</dt>\n",
       "                <dd><code>StructuredStreamingUCI</code></dd>\n",
       "            </dl>\n",
       "        </div>\n",
       "        \n",
       "            </div>\n",
       "        "
      ],
      "text/plain": [
       "<pyspark.sql.session.SparkSession at 0x7fba13abdfd0>"
      ]
     },
     "execution_count": 4,
     "metadata": {},
     "output_type": "execute_result"
    }
   ],
   "source": [
    "spark = (SparkSession\n",
    "    .builder\n",
    "    .appName(\"StructuredStreamingUCI\")\n",
    "    .getOrCreate())\n",
    "\n",
    "spark"
   ]
  },
  {
   "cell_type": "code",
   "execution_count": 5,
   "metadata": {},
   "outputs": [],
   "source": [
    "sc = SparkContext.getOrCreate()\n",
    "ssc = StreamingContext(sc, 5)"
   ]
  },
  {
   "cell_type": "code",
   "execution_count": null,
   "metadata": {},
   "outputs": [],
   "source": []
  },
  {
   "cell_type": "code",
   "execution_count": 6,
   "metadata": {},
   "outputs": [],
   "source": [
    "kafkaParams = {\"metadata.broker.list\": \"localhost:9092\"}\n",
    "stream = KafkaUtils.createDirectStream(ssc, [\"test\"], kafkaParams)\n",
    "stream = stream.map(lambda o: str(o[1]))"
   ]
  },
  {
   "cell_type": "code",
   "execution_count": null,
   "metadata": {},
   "outputs": [],
   "source": []
  },
  {
   "cell_type": "code",
   "execution_count": 7,
   "metadata": {},
   "outputs": [],
   "source": [
    "\n",
    "def parseString(line):\n",
    "      print(line)\n",
    "      line = line.replace('\"', '')\n",
    "      s = line.split(\",\")\n",
    "      try:\n",
    "          return [{\"row\": int(s[0]),\n",
    "                   \"date\": datetime.strptime(s[1], \"%Y-%m-%d %H:%M:%S\")}]\n",
    "      except Exception as err:\n",
    "          print(\"Wrong line format (%s): \" % line)\n",
    "          return []"
   ]
  },
  {
   "cell_type": "code",
   "execution_count": null,
   "metadata": {},
   "outputs": [],
   "source": []
  },
  {
   "cell_type": "code",
   "execution_count": 9,
   "metadata": {},
   "outputs": [
    {
     "ename": "AttributeError",
     "evalue": "'TransformedDStream' object has no attribute 'withColumn'",
     "output_type": "error",
     "traceback": [
      "\u001b[0;31m---------------------------------------------------------------------------\u001b[0m",
      "\u001b[0;31mAttributeError\u001b[0m                            Traceback (most recent call last)",
      "\u001b[0;32m<ipython-input-9-bfd9ec1499da>\u001b[0m in \u001b[0;36m<module>\u001b[0;34m\u001b[0m\n\u001b[1;32m      5\u001b[0m \u001b[0;34m\u001b[0m\u001b[0m\n\u001b[1;32m      6\u001b[0m \u001b[0;31m### Calculating lag of price at each day level\u001b[0m\u001b[0;34m\u001b[0m\u001b[0;34m\u001b[0m\u001b[0;34m\u001b[0m\u001b[0m\n\u001b[0;32m----> 7\u001b[0;31m prev_date= orders.withColumn('lag_date',\n\u001b[0m\u001b[1;32m      8\u001b[0m                         \u001b[0mfunc\u001b[0m\u001b[0;34m.\u001b[0m\u001b[0mlag\u001b[0m\u001b[0;34m(\u001b[0m\u001b[0mdfu\u001b[0m\u001b[0;34m[\u001b[0m\u001b[0;34m'row'\u001b[0m\u001b[0;34m]\u001b[0m\u001b[0;34m)\u001b[0m\u001b[0;34m\u001b[0m\u001b[0;34m\u001b[0m\u001b[0m\n\u001b[1;32m      9\u001b[0m                                 .over(Windowspec))\n",
      "\u001b[0;31mAttributeError\u001b[0m: 'TransformedDStream' object has no attribute 'withColumn'"
     ]
    }
   ],
   "source": [
    "orders = stream.flatMap(parseString)\n",
    "\n",
    "### Defining the window \n",
    "Windowspec = Window.orderBy(\"date\")\n",
    "\n",
    "### Calculating lag of price at each day level\n",
    "prev_date= orders.withColumn('lag_date',\n",
    "                        func.lag(dfu['row'])\n",
    "                                .over(Windowspec))\n",
    "\n",
    "### Calculating the average                                  \n",
    "result = prev_date.withColumn('daily_return', \n",
    "          (prev_day_price['price'] - prev_day_price['prev_day_price']) / \n",
    "prev_day_price['price'] )"
   ]
  },
  {
   "cell_type": "code",
   "execution_count": 13,
   "metadata": {},
   "outputs": [
    {
     "ename": "AttributeError",
     "evalue": "'TransformedDStream' object has no attribute 'withColumn'",
     "output_type": "error",
     "traceback": [
      "\u001b[0;31m---------------------------------------------------------------------------\u001b[0m",
      "\u001b[0;31mAttributeError\u001b[0m                            Traceback (most recent call last)",
      "\u001b[0;32m<ipython-input-13-481f84dfa3d7>\u001b[0m in \u001b[0;36m<module>\u001b[0;34m\u001b[0m\n\u001b[0;32m----> 1\u001b[0;31m \u001b[0morders\u001b[0m \u001b[0;34m=\u001b[0m \u001b[0morders\u001b[0m\u001b[0;34m.\u001b[0m\u001b[0mwithColumn\u001b[0m\u001b[0;34m(\u001b[0m\u001b[0;34m\"date_lag\"\u001b[0m\u001b[0;34m,\u001b[0m \u001b[0mlag\u001b[0m\u001b[0;34m(\u001b[0m\u001b[0;34m\"date\"\u001b[0m\u001b[0;34m)\u001b[0m\u001b[0;34m)\u001b[0m\u001b[0;34m.\u001b[0m\u001b[0mover\u001b[0m\u001b[0;34m(\u001b[0m\u001b[0mwindow\u001b[0m\u001b[0;34m.\u001b[0m\u001b[0mpartitionBy\u001b[0m\u001b[0;34m(\u001b[0m\u001b[0;34m'date'\u001b[0m\u001b[0;34m)\u001b[0m\u001b[0;34m.\u001b[0m\u001b[0morderBy\u001b[0m\u001b[0;34m(\u001b[0m\u001b[0;34m\"date\"\u001b[0m\u001b[0;34m)\u001b[0m\u001b[0;34m)\u001b[0m\u001b[0;34m\u001b[0m\u001b[0;34m\u001b[0m\u001b[0m\n\u001b[0m",
      "\u001b[0;31mAttributeError\u001b[0m: 'TransformedDStream' object has no attribute 'withColumn'"
     ]
    }
   ],
   "source": [
    "\n"
   ]
  },
  {
   "cell_type": "code",
   "execution_count": null,
   "metadata": {},
   "outputs": [],
   "source": []
  },
  {
   "cell_type": "code",
   "execution_count": 11,
   "metadata": {},
   "outputs": [
    {
     "name": "stdout",
     "output_type": "stream",
     "text": [
      "-------------------------------------------\n",
      "Time: 2020-07-13 18:29:50\n",
      "-------------------------------------------\n",
      "{'row': 907, 'date': datetime.datetime(2015, 2, 5, 8, 57)}\n",
      "{'row': 908, 'date': datetime.datetime(2015, 2, 5, 8, 57, 59)}\n",
      "{'row': 909, 'date': datetime.datetime(2015, 2, 5, 8, 58, 59)}\n",
      "{'row': 910, 'date': datetime.datetime(2015, 2, 5, 9, 0)}\n",
      "{'row': 911, 'date': datetime.datetime(2015, 2, 5, 9, 1)}\n",
      "{'row': 912, 'date': datetime.datetime(2015, 2, 5, 9, 2)}\n",
      "{'row': 913, 'date': datetime.datetime(2015, 2, 5, 9, 3)}\n",
      "{'row': 914, 'date': datetime.datetime(2015, 2, 5, 9, 4)}\n",
      "{'row': 915, 'date': datetime.datetime(2015, 2, 5, 9, 4, 59)}\n",
      "{'row': 916, 'date': datetime.datetime(2015, 2, 5, 9, 6)}\n",
      "...\n",
      "\n",
      "-------------------------------------------\n",
      "Time: 2020-07-13 18:29:55\n",
      "-------------------------------------------\n",
      "{'row': 1061, 'date': datetime.datetime(2015, 2, 5, 11, 31)}\n",
      "{'row': 1062, 'date': datetime.datetime(2015, 2, 5, 11, 31, 59)}\n",
      "{'row': 1063, 'date': datetime.datetime(2015, 2, 5, 11, 32, 59)}\n",
      "{'row': 1064, 'date': datetime.datetime(2015, 2, 5, 11, 34)}\n",
      "{'row': 1065, 'date': datetime.datetime(2015, 2, 5, 11, 35)}\n",
      "{'row': 1066, 'date': datetime.datetime(2015, 2, 5, 11, 36)}\n",
      "\n",
      "-------------------------------------------\n",
      "Time: 2020-07-13 18:30:00\n",
      "-------------------------------------------\n",
      "{'row': 1067, 'date': datetime.datetime(2015, 2, 5, 11, 37)}\n",
      "{'row': 1068, 'date': datetime.datetime(2015, 2, 5, 11, 38)}\n",
      "{'row': 1069, 'date': datetime.datetime(2015, 2, 5, 11, 38, 59)}\n",
      "{'row': 1070, 'date': datetime.datetime(2015, 2, 5, 11, 39, 59)}\n",
      "{'row': 1071, 'date': datetime.datetime(2015, 2, 5, 11, 41)}\n",
      "{'row': 1072, 'date': datetime.datetime(2015, 2, 5, 11, 42)}\n",
      "\n"
     ]
    }
   ],
   "source": [
    "ssc.start()"
   ]
  },
  {
   "cell_type": "code",
   "execution_count": 17,
   "metadata": {},
   "outputs": [],
   "source": [
    "ssc.stop()"
   ]
  },
  {
   "cell_type": "markdown",
   "metadata": {},
   "source": [
    "## 5.6 Stop session"
   ]
  },
  {
   "cell_type": "code",
   "execution_count": 13,
   "metadata": {},
   "outputs": [],
   "source": [
    "spark.stop()"
   ]
  },
  {
   "cell_type": "code",
   "execution_count": 19,
   "metadata": {},
   "outputs": [],
   "source": [
    "df.stop()"
   ]
  },
  {
   "cell_type": "code",
   "execution_count": null,
   "metadata": {},
   "outputs": [],
   "source": []
  },
  {
   "cell_type": "code",
   "execution_count": null,
   "metadata": {},
   "outputs": [],
   "source": []
  }
 ],
 "metadata": {
  "kernelspec": {
   "display_name": "Python 3",
   "language": "python",
   "name": "python3"
  },
  "language_info": {
   "codemirror_mode": {
    "name": "ipython",
    "version": 3
   },
   "file_extension": ".py",
   "mimetype": "text/x-python",
   "name": "python",
   "nbconvert_exporter": "python",
   "pygments_lexer": "ipython3",
   "version": "3.7.6"
  }
 },
 "nbformat": 4,
 "nbformat_minor": 4
}
